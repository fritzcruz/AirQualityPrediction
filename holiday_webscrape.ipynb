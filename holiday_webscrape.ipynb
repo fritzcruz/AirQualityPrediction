{
 "cells": [
  {
   "cell_type": "code",
   "execution_count": 9,
   "metadata": {},
   "outputs": [],
   "source": [
    "import requests\n",
    "from bs4 import BeautifulSoup\n",
    "import csv\n",
    "import pandas as pd\n",
    "\n",
    "start_year = 2003\n",
    "end_year = 2022\n",
    "\n",
    "# Set headers to specify language preference and location\n",
    "headers = {\n",
    "    \"Accept-Language\": \"en-US,en;q=0.9\",\n",
    "    \"User-Agent\": \"Mozilla/5.0 (Windows NT 10.0; Win64; x64) AppleWebKit/537.36 (KHTML, like Gecko) Chrome/85.0.4183.121 Safari/537.36\"\n",
    "}\n",
    "\n",
    "# Initialize an empty list to store all holiday data\n",
    "all_holidays = []\n",
    "\n",
    "# Loop through the years\n",
    "for year in range(start_year, end_year + 1):\n",
    "    # Construct URL with the year\n",
    "    url = f'https://www.timeanddate.com/holidays/philippines/{year}'\n",
    "    \n",
    "    # Make request with headers\n",
    "    response = requests.get(url, headers=headers)\n",
    "    soup = BeautifulSoup(response.text, 'lxml')\n",
    "    \n",
    "    # Extract the holiday data\n",
    "    holidays = [[td.text.strip() for td in tr.select('th, td')] for tr in soup.select('tr[data-mask]')]\n",
    "    \n",
    "    # Add year to each holiday entry\n",
    "    for holiday in holidays:\n",
    "        holiday.insert(0, year)  # Add the year at the beginning of each row\n",
    "        all_holidays.append(holiday)\n",
    "\n",
    "# Print or save data as needed\n",
    "# for holiday in all_holidays:\n",
    "#     print(holiday)\n",
    "\n",
    "#convert to dataframe\n",
    "df = pd.DataFrame(all_holidays,columns=['Year', 'Date', 'Weekday', 'Holiday Name', 'Holiday Type', 'Details'])\n",
    "holiday_df = df.drop(columns='Details')\n",
    "\n",
    "# Combine 'Year' and 'Date' columns with a separator before converting to datetime\n",
    "holiday_df['Date'] = pd.to_datetime(holiday_df['Year'].astype(str) + '-' + holiday_df['Date'], format='%Y-%d %b')\n",
    "\n",
    "# Extract the date part in the desired format\n",
    "holiday_df['Date'] = holiday_df['Date'].dt.strftime('%Y-%m-%d')\n",
    "\n",
    "holiday_df = holiday_df.drop(columns='Year').rename(columns={'Date': 'date'})\n",
    "\n",
    "# with open('philippines_holidays_2003_2022.csv', 'w', newline='', encoding='utf-8') as f:\n",
    "#     writer = csv.writer(f)\n",
    "#     writer.writerow(['Year', 'Date', 'Weekday', 'Holiday Name', 'Holiday Type', 'Details'])\n",
    "#     writer.writerows(all_holidays)\n"
   ]
  },
  {
   "cell_type": "code",
   "execution_count": 11,
   "metadata": {},
   "outputs": [],
   "source": [
    "holiday_df.to_csv('philippines_holidays_2003_2022_df.csv')"
   ]
  }
 ],
 "metadata": {
  "kernelspec": {
   "display_name": "data100m",
   "language": "python",
   "name": "python3"
  },
  "language_info": {
   "codemirror_mode": {
    "name": "ipython",
    "version": 3
   },
   "file_extension": ".py",
   "mimetype": "text/x-python",
   "name": "python",
   "nbconvert_exporter": "python",
   "pygments_lexer": "ipython3",
   "version": "3.12.0"
  }
 },
 "nbformat": 4,
 "nbformat_minor": 2
}
